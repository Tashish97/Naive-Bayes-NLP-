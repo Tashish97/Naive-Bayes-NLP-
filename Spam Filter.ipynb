{
 "cells": [
  {
   "cell_type": "markdown",
   "id": "acafb037",
   "metadata": {},
   "source": [
    "Author: Ashish Toppo  \n",
    "**Type      :NLP**  \n",
    "**Algorithm :Naive Bayes**  \n",
    "**Language  :Python**  \n",
    "**IDE       :Jupyter Notebook**  \n",
    "\n",
    "Description:\n",
    "Naive Bayes classifier assumes that the presence of a particular feature in a class is unrelated to the presence of any other feature. For example, a fruit may be considered to be an apple if it is red, round, and about 3 inches in diameter. It's based on bayes theorem.  \n",
    "\n",
    "## Work Done:  \n",
    "1. Cleaned the text:\n",
    "1.1 Removed the Punctuations using regex.\n",
    "1.2 Removed the stop words.\n",
    "1.3 Rooted the words using lemmatization\n",
    "2. Converted the text data to both bag of words data and tfidf data.\n",
    "3. Done hyperparameter tuning using GridSearchCv for both bow and tfidf data.\n",
    "4. Confusion matrix and ROC-AUC curve for validation."
   ]
  },
  {
   "cell_type": "code",
   "execution_count": 1,
   "id": "3497a636",
   "metadata": {
    "ExecuteTime": {
     "end_time": "2022-03-04T15:30:44.047389Z",
     "start_time": "2022-03-04T15:30:41.962585Z"
    }
   },
   "outputs": [],
   "source": [
    "import pandas as pd\n",
    "import matplotlib.pyplot as plt\n",
    "import numpy as np\n",
    "import seaborn as sns\n",
    "import warnings\n",
    "warnings.filterwarnings(\"ignore\")"
   ]
  },
  {
   "cell_type": "code",
   "execution_count": 2,
   "id": "a31c1b9d",
   "metadata": {
    "ExecuteTime": {
     "end_time": "2022-03-04T15:30:44.140405Z",
     "start_time": "2022-03-04T15:30:44.049389Z"
    }
   },
   "outputs": [],
   "source": [
    "#reading up the .csv file\n",
    "data = pd.read_csv(\"spam_ham_dataset.csv\")"
   ]
  },
  {
   "cell_type": "code",
   "execution_count": 3,
   "id": "c91e1219",
   "metadata": {
    "ExecuteTime": {
     "end_time": "2022-03-04T15:30:44.172407Z",
     "start_time": "2022-03-04T15:30:44.143407Z"
    }
   },
   "outputs": [
    {
     "data": {
      "text/html": [
       "<div>\n",
       "<style scoped>\n",
       "    .dataframe tbody tr th:only-of-type {\n",
       "        vertical-align: middle;\n",
       "    }\n",
       "\n",
       "    .dataframe tbody tr th {\n",
       "        vertical-align: top;\n",
       "    }\n",
       "\n",
       "    .dataframe thead th {\n",
       "        text-align: right;\n",
       "    }\n",
       "</style>\n",
       "<table border=\"1\" class=\"dataframe\">\n",
       "  <thead>\n",
       "    <tr style=\"text-align: right;\">\n",
       "      <th></th>\n",
       "      <th>Unnamed: 0</th>\n",
       "      <th>label</th>\n",
       "      <th>text</th>\n",
       "      <th>label_num</th>\n",
       "    </tr>\n",
       "  </thead>\n",
       "  <tbody>\n",
       "    <tr>\n",
       "      <th>0</th>\n",
       "      <td>605</td>\n",
       "      <td>ham</td>\n",
       "      <td>Subject: enron methanol ; meter # : 988291\\r\\n...</td>\n",
       "      <td>0</td>\n",
       "    </tr>\n",
       "    <tr>\n",
       "      <th>1</th>\n",
       "      <td>2349</td>\n",
       "      <td>ham</td>\n",
       "      <td>Subject: hpl nom for january 9 , 2001\\r\\n( see...</td>\n",
       "      <td>0</td>\n",
       "    </tr>\n",
       "    <tr>\n",
       "      <th>2</th>\n",
       "      <td>3624</td>\n",
       "      <td>ham</td>\n",
       "      <td>Subject: neon retreat\\r\\nho ho ho , we ' re ar...</td>\n",
       "      <td>0</td>\n",
       "    </tr>\n",
       "    <tr>\n",
       "      <th>3</th>\n",
       "      <td>4685</td>\n",
       "      <td>spam</td>\n",
       "      <td>Subject: photoshop , windows , office . cheap ...</td>\n",
       "      <td>1</td>\n",
       "    </tr>\n",
       "    <tr>\n",
       "      <th>4</th>\n",
       "      <td>2030</td>\n",
       "      <td>ham</td>\n",
       "      <td>Subject: re : indian springs\\r\\nthis deal is t...</td>\n",
       "      <td>0</td>\n",
       "    </tr>\n",
       "  </tbody>\n",
       "</table>\n",
       "</div>"
      ],
      "text/plain": [
       "   Unnamed: 0 label                                               text  \\\n",
       "0         605   ham  Subject: enron methanol ; meter # : 988291\\r\\n...   \n",
       "1        2349   ham  Subject: hpl nom for january 9 , 2001\\r\\n( see...   \n",
       "2        3624   ham  Subject: neon retreat\\r\\nho ho ho , we ' re ar...   \n",
       "3        4685  spam  Subject: photoshop , windows , office . cheap ...   \n",
       "4        2030   ham  Subject: re : indian springs\\r\\nthis deal is t...   \n",
       "\n",
       "   label_num  \n",
       "0          0  \n",
       "1          0  \n",
       "2          0  \n",
       "3          1  \n",
       "4          0  "
      ]
     },
     "execution_count": 3,
     "metadata": {},
     "output_type": "execute_result"
    }
   ],
   "source": [
    "#peeping into data\n",
    "data.head()"
   ]
  },
  {
   "cell_type": "code",
   "execution_count": 4,
   "id": "163d6d28",
   "metadata": {
    "ExecuteTime": {
     "end_time": "2022-03-04T15:30:44.188412Z",
     "start_time": "2022-03-04T15:30:44.173407Z"
    }
   },
   "outputs": [
    {
     "name": "stdout",
     "output_type": "stream",
     "text": [
      "Subject: hpl nom for march 3 - 5 , 2001\r\n",
      "( see attached file : hplno 303 . xls )\r\n",
      "- hplno 303 . xls\n",
      "************************************************************\n",
      "Subject: valentines day help\r\n",
      "red - neck valentine ' s love poem\r\n",
      "collards is green\r\n",
      "my dog ' s name is blue\r\n",
      "and i ' m so lucky\r\n",
      "to have a sweet thang like you .\r\n",
      "yore hair is like cornsilk\r\n",
      "a - flapping in the breeze\r\n",
      "softer than old blue ' s\r\n",
      "and without all them fleas .\r\n",
      "you move like the bass ,\r\n",
      "which excite me in may .\r\n",
      "you ain ' t got no scales\r\n",
      "but i luv you anyway .\r\n",
      "yo ' re as satisfy ' n as okry\r\n",
      "jist a - fry ' n in the pan .\r\n",
      "yo ' re as fragrant as \" snuff \"\r\n",
      "right out of the can .\r\n",
      "you have som ' a yore teeth ,\r\n",
      "for which i am proud ;\r\n",
      "i hold my head high\r\n",
      "when we ' re in a crowd .\r\n",
      "on special occasions ,\r\n",
      "when you shave under yore arms ,\r\n",
      "well , i ' m in hawg heaven ,\r\n",
      "and awed by yore charms .\r\n",
      "still them fellers at work ,\r\n",
      "they all want to know ,\r\n",
      "what i did to deserve\r\n",
      "such a purdy , young doe .\r\n",
      "like a good roll of duct tape\r\n",
      "yo ' re there fer yore man ,\r\n",
      "to patch up life ' s troubles\r\n",
      "and fix what you can .\r\n",
      "yo ' re as cute as a junebug\r\n",
      "a - buzzin ' overhead .\r\n",
      "you ain ' t mean like those far ants\r\n",
      "i found in my bed .\r\n",
      "cut from the best cloth\r\n",
      "like a plaid flannel shirt ,\r\n",
      "you spark up my life\r\n",
      "more than a fresh load of dirt .\r\n",
      "when you hold me real tight\r\n",
      "like a padded gunrack ,\r\n",
      "my life is complete ;\r\n",
      "ain ' t nuttin ' i lack .\r\n",
      "yore complexion , it ' s perfection ,\r\n",
      "like the best vinyl sidin ' .\r\n",
      "despite all the years ,\r\n",
      "yore age , it keeps hidin ' .\r\n",
      "me ' n ' you ' s we go together\r\n",
      "just like a moon pie\r\n",
      "with a rc cold drank ,\r\n",
      "yep , we go together\r\n",
      "like a skunk goes with stank .\r\n",
      "some men , they buy chocolate\r\n",
      "for valentine ' s day ;\r\n",
      "they git it at wal - mart ,\r\n",
      "it ' s romantic that way .\r\n",
      "some men git roses\r\n",
      "on that special day\r\n",
      "from the cooler at kroger .\r\n",
      "\" that ' s impressive , \" i say .\r\n",
      "some men buy fine diamonds\r\n",
      "from a flea market booth .\r\n",
      "\" diamonds are forever , \"\r\n",
      "they explain , suave and couth .\r\n",
      "but for this man , honey ,\r\n",
      "these won ' t do .\r\n",
      "cause yo ' re too special ,\r\n",
      "you sweet thang you .\r\n",
      "i got you a gift ,\r\n",
      "without taste nor odor ,\r\n",
      "more useful than diamonds . . .\r\n",
      "it ' s a new trollin ' motor ! !\r\n",
      "l shore due luv you darling ,\r\n",
      "aint love grand ! ! ! ! . . . . .\r\n",
      "bubba\n",
      "************************************************************\n",
      "Subject: fwd : resume\r\n",
      "trying to help outta friend .\r\n",
      "i ' ll take 40 % of your referral fee . . . lol ; )\r\n",
      "- dukeresume . doc\n",
      "************************************************************\n",
      "Subject: re : intraday eastrans nomination change for 9 / 6 / 00\r\n",
      "10 , 545 will be delivered to mobil beaumont from cipco for 6 th only .\r\n",
      "| - - - - - - - - + - - - - - - - - - - - - - - - - - - - - - - - >\r\n",
      "| | marta k |\r\n",
      "| | henderson |\r\n",
      "| | |\r\n",
      "| | 09 / 06 / 00 |\r\n",
      "| | 09 : 21 am |\r\n",
      "| | |\r\n",
      "| - - - - - - - - + - - - - - - - - - - - - - - - - - - - - - - - >\r\n",
      "| |\r\n",
      "| to : darrel f . bane / easttexas / pefs / pec @ pec , john\r\n",
      "a . |\r\n",
      "| bretz / gcs / cec / pec @ pec , chad w . cass / gcs / cec / pec @ pec , michael\r\n",
      "r . |\r\n",
      "| cherry / easttexas / pefs / pec @ pec , bruce\r\n",
      "mcmills / ftworth / pefs / pec @ pec , |\r\n",
      "| william e . speckels / gcs / cec / pec @ pec , donna\r\n",
      "c . |\r\n",
      "| spencer / gcs / cec / pec @ pec , julia a . urbanek / gcs / cec / pec @ pec , dora\r\n",
      "j . |\r\n",
      "| levy / gcs / cec / pec @ pec , briley @ enron . com ,\r\n",
      "dfarmer @ enron . com , |\r\n",
      "| carlos . j . rodriguez @ enron . com , sharon\r\n",
      "beemer / ftworth / pefs / pec @ pec , |\r\n",
      "| connie\r\n",
      "wester / easttexas / pefs / pec @ pec |\r\n",
      "|\r\n",
      "cc : |\r\n",
      "| subject : intraday eastrans nomination change for\r\n",
      "9 / 6 / 00 |\r\n",
      "deliveries continue to be 30 , 000\n",
      "************************************************************\n",
      "Subject: out of the office\r\n",
      "please note that i will be out of the on tuesday , july 11 th through friday ,\r\n",
      "july 14 th . i will return on monday the 17 th . in my absense , my desk will be\r\n",
      "covered as follows :\r\n",
      "tom acton :\r\n",
      "980067 lonestar katy - - - - daily confirmations\r\n",
      "980072 aquila header - - daily confirmations\r\n",
      "980069 trunkline - - daily confirmations\r\n",
      "986780 oasis katy - - daily confirmations\r\n",
      "oneok transport - - daily scheduling\r\n",
      "western transport - - daily scheduling\r\n",
      "midcon transport - - daily scheduling\r\n",
      "carlos rodriguez :\r\n",
      "lonestar pipe line - - offsystem scheduling / pathing\r\n",
      "midcon pipe line - - offsystem scheduling / pathing\r\n",
      "dow pipe line - - offsystem scheduling / pathing\r\n",
      "eddie janzen / mary poorman :\r\n",
      "oasis pipe line - - offsystem nominations / scheduling / pathing\r\n",
      "thanks ,\r\n",
      "mark\r\n",
      "x 33396\n",
      "************************************************************\n"
     ]
    }
   ],
   "source": [
    "#what to expect \n",
    "for i in data[\"text\"].sample(5):\n",
    "    print(i)\n",
    "    print(\"***\"*20)"
   ]
  },
  {
   "cell_type": "markdown",
   "id": "f69f6efc",
   "metadata": {},
   "source": [
    "**Observations**\n",
    "1. The mails have phone no's, hyperlinks, email addresses, punctuations\n",
    "2. But as these might increase my no. of words in corpus i'll be getting rid of these using **Regular Expressions**.\n",
    "3. Numbers Won't be of any help so i'll be rooting up for the words."
   ]
  },
  {
   "cell_type": "code",
   "execution_count": 5,
   "id": "fad22e94",
   "metadata": {
    "ExecuteTime": {
     "end_time": "2022-03-04T15:30:44.204411Z",
     "start_time": "2022-03-04T15:30:44.191408Z"
    }
   },
   "outputs": [
    {
     "data": {
      "text/plain": [
       "Index(['Unnamed: 0', 'label', 'text', 'label_num'], dtype='object')"
      ]
     },
     "execution_count": 5,
     "metadata": {},
     "output_type": "execute_result"
    }
   ],
   "source": [
    "data.columns"
   ]
  },
  {
   "cell_type": "code",
   "execution_count": 6,
   "id": "1e0a94cf",
   "metadata": {
    "ExecuteTime": {
     "end_time": "2022-03-04T15:30:44.220410Z",
     "start_time": "2022-03-04T15:30:44.207412Z"
    }
   },
   "outputs": [],
   "source": [
    "#dropping Columns Unnames and label as we have similar columns for them\n",
    "data.drop(columns=['Unnamed: 0', 'label'], inplace=True)"
   ]
  },
  {
   "cell_type": "code",
   "execution_count": 7,
   "id": "65fc9d3f",
   "metadata": {
    "ExecuteTime": {
     "end_time": "2022-03-04T15:30:44.236413Z",
     "start_time": "2022-03-04T15:30:44.222414Z"
    }
   },
   "outputs": [
    {
     "data": {
      "text/html": [
       "<div>\n",
       "<style scoped>\n",
       "    .dataframe tbody tr th:only-of-type {\n",
       "        vertical-align: middle;\n",
       "    }\n",
       "\n",
       "    .dataframe tbody tr th {\n",
       "        vertical-align: top;\n",
       "    }\n",
       "\n",
       "    .dataframe thead th {\n",
       "        text-align: right;\n",
       "    }\n",
       "</style>\n",
       "<table border=\"1\" class=\"dataframe\">\n",
       "  <thead>\n",
       "    <tr style=\"text-align: right;\">\n",
       "      <th></th>\n",
       "      <th>text</th>\n",
       "      <th>label_num</th>\n",
       "    </tr>\n",
       "  </thead>\n",
       "  <tbody>\n",
       "    <tr>\n",
       "      <th>0</th>\n",
       "      <td>Subject: enron methanol ; meter # : 988291\\r\\n...</td>\n",
       "      <td>0</td>\n",
       "    </tr>\n",
       "    <tr>\n",
       "      <th>1</th>\n",
       "      <td>Subject: hpl nom for january 9 , 2001\\r\\n( see...</td>\n",
       "      <td>0</td>\n",
       "    </tr>\n",
       "    <tr>\n",
       "      <th>2</th>\n",
       "      <td>Subject: neon retreat\\r\\nho ho ho , we ' re ar...</td>\n",
       "      <td>0</td>\n",
       "    </tr>\n",
       "    <tr>\n",
       "      <th>3</th>\n",
       "      <td>Subject: photoshop , windows , office . cheap ...</td>\n",
       "      <td>1</td>\n",
       "    </tr>\n",
       "    <tr>\n",
       "      <th>4</th>\n",
       "      <td>Subject: re : indian springs\\r\\nthis deal is t...</td>\n",
       "      <td>0</td>\n",
       "    </tr>\n",
       "  </tbody>\n",
       "</table>\n",
       "</div>"
      ],
      "text/plain": [
       "                                                text  label_num\n",
       "0  Subject: enron methanol ; meter # : 988291\\r\\n...          0\n",
       "1  Subject: hpl nom for january 9 , 2001\\r\\n( see...          0\n",
       "2  Subject: neon retreat\\r\\nho ho ho , we ' re ar...          0\n",
       "3  Subject: photoshop , windows , office . cheap ...          1\n",
       "4  Subject: re : indian springs\\r\\nthis deal is t...          0"
      ]
     },
     "execution_count": 7,
     "metadata": {},
     "output_type": "execute_result"
    }
   ],
   "source": [
    "data.head()"
   ]
  },
  {
   "cell_type": "code",
   "execution_count": 8,
   "id": "a7f6e93d",
   "metadata": {
    "ExecuteTime": {
     "end_time": "2022-03-04T15:30:44.747773Z",
     "start_time": "2022-03-04T15:30:44.238417Z"
    }
   },
   "outputs": [],
   "source": [
    "# regular experession\n",
    "data[\"Rtext\"]=data[\"text\"].replace(\"[^a-zA-Z]\",\" \", regex=True)"
   ]
  },
  {
   "cell_type": "code",
   "execution_count": 9,
   "id": "5c4ff12d",
   "metadata": {
    "ExecuteTime": {
     "end_time": "2022-03-04T15:30:44.763773Z",
     "start_time": "2022-03-04T15:30:44.751775Z"
    }
   },
   "outputs": [
    {
     "data": {
      "text/html": [
       "<div>\n",
       "<style scoped>\n",
       "    .dataframe tbody tr th:only-of-type {\n",
       "        vertical-align: middle;\n",
       "    }\n",
       "\n",
       "    .dataframe tbody tr th {\n",
       "        vertical-align: top;\n",
       "    }\n",
       "\n",
       "    .dataframe thead th {\n",
       "        text-align: right;\n",
       "    }\n",
       "</style>\n",
       "<table border=\"1\" class=\"dataframe\">\n",
       "  <thead>\n",
       "    <tr style=\"text-align: right;\">\n",
       "      <th></th>\n",
       "      <th>text</th>\n",
       "      <th>label_num</th>\n",
       "      <th>Rtext</th>\n",
       "    </tr>\n",
       "  </thead>\n",
       "  <tbody>\n",
       "    <tr>\n",
       "      <th>0</th>\n",
       "      <td>Subject: enron methanol ; meter # : 988291\\r\\n...</td>\n",
       "      <td>0</td>\n",
       "      <td>Subject  enron methanol   meter             th...</td>\n",
       "    </tr>\n",
       "    <tr>\n",
       "      <th>1</th>\n",
       "      <td>Subject: hpl nom for january 9 , 2001\\r\\n( see...</td>\n",
       "      <td>0</td>\n",
       "      <td>Subject  hpl nom for january             see a...</td>\n",
       "    </tr>\n",
       "    <tr>\n",
       "      <th>2</th>\n",
       "      <td>Subject: neon retreat\\r\\nho ho ho , we ' re ar...</td>\n",
       "      <td>0</td>\n",
       "      <td>Subject  neon retreat  ho ho ho   we   re arou...</td>\n",
       "    </tr>\n",
       "    <tr>\n",
       "      <th>3</th>\n",
       "      <td>Subject: photoshop , windows , office . cheap ...</td>\n",
       "      <td>1</td>\n",
       "      <td>Subject  photoshop   windows   office   cheap ...</td>\n",
       "    </tr>\n",
       "    <tr>\n",
       "      <th>4</th>\n",
       "      <td>Subject: re : indian springs\\r\\nthis deal is t...</td>\n",
       "      <td>0</td>\n",
       "      <td>Subject  re   indian springs  this deal is to ...</td>\n",
       "    </tr>\n",
       "  </tbody>\n",
       "</table>\n",
       "</div>"
      ],
      "text/plain": [
       "                                                text  label_num  \\\n",
       "0  Subject: enron methanol ; meter # : 988291\\r\\n...          0   \n",
       "1  Subject: hpl nom for january 9 , 2001\\r\\n( see...          0   \n",
       "2  Subject: neon retreat\\r\\nho ho ho , we ' re ar...          0   \n",
       "3  Subject: photoshop , windows , office . cheap ...          1   \n",
       "4  Subject: re : indian springs\\r\\nthis deal is t...          0   \n",
       "\n",
       "                                               Rtext  \n",
       "0  Subject  enron methanol   meter             th...  \n",
       "1  Subject  hpl nom for january             see a...  \n",
       "2  Subject  neon retreat  ho ho ho   we   re arou...  \n",
       "3  Subject  photoshop   windows   office   cheap ...  \n",
       "4  Subject  re   indian springs  this deal is to ...  "
      ]
     },
     "execution_count": 9,
     "metadata": {},
     "output_type": "execute_result"
    }
   ],
   "source": [
    "data.head()"
   ]
  },
  {
   "cell_type": "code",
   "execution_count": 10,
   "id": "c380d05e",
   "metadata": {
    "ExecuteTime": {
     "end_time": "2022-03-04T15:30:44.779779Z",
     "start_time": "2022-03-04T15:30:44.764773Z"
    }
   },
   "outputs": [
    {
     "data": {
      "text/plain": [
       "'Subject  enron methanol   meter             this is a follow up to the note i gave you on monday                preliminary  flow data provided by daren      please override pop   s daily volume   presently zero   to reflect daily  activity you can obtain from gas control    this change is needed asap for economics purposes  '"
      ]
     },
     "execution_count": 10,
     "metadata": {},
     "output_type": "execute_result"
    }
   ],
   "source": [
    "#data after removal of punctuations\n",
    "data.iloc[0][2]"
   ]
  },
  {
   "cell_type": "code",
   "execution_count": 11,
   "id": "9b87d4f1",
   "metadata": {
    "ExecuteTime": {
     "end_time": "2022-03-04T15:30:45.427918Z",
     "start_time": "2022-03-04T15:30:44.782781Z"
    }
   },
   "outputs": [],
   "source": [
    "from nltk.corpus import stopwords\n",
    "stop_words = set(stopwords.words(\"english\"))"
   ]
  },
  {
   "cell_type": "code",
   "execution_count": 12,
   "id": "60578b2e",
   "metadata": {
    "ExecuteTime": {
     "end_time": "2022-03-04T15:30:45.443925Z",
     "start_time": "2022-03-04T15:30:45.427918Z"
    }
   },
   "outputs": [
    {
     "data": {
      "text/plain": [
       "['y',\n",
       " \"weren't\",\n",
       " \"wouldn't\",\n",
       " 'the',\n",
       " 'hasn',\n",
       " 'so',\n",
       " 'can',\n",
       " \"mightn't\",\n",
       " 'why',\n",
       " 'more']"
      ]
     },
     "execution_count": 12,
     "metadata": {},
     "output_type": "execute_result"
    }
   ],
   "source": [
    "list(stop_words)[:10]"
   ]
  },
  {
   "cell_type": "code",
   "execution_count": 13,
   "id": "a21fad6f",
   "metadata": {
    "ExecuteTime": {
     "end_time": "2022-03-04T15:30:45.458933Z",
     "start_time": "2022-03-04T15:30:45.444925Z"
    }
   },
   "outputs": [],
   "source": [
    "from nltk.stem import WordNetLemmatizer\n",
    "wnl = WordNetLemmatizer()"
   ]
  },
  {
   "cell_type": "code",
   "execution_count": 14,
   "id": "c4a86418",
   "metadata": {
    "ExecuteTime": {
     "end_time": "2022-03-04T15:30:51.100995Z",
     "start_time": "2022-03-04T15:30:45.460929Z"
    }
   },
   "outputs": [],
   "source": [
    "#this code below removes stop words and also lemmatizes the words\n",
    "for i in range(len(data)):\n",
    "    review=data[\"Rtext\"][i]\n",
    "    review=review.split()\n",
    "    review=[wnl.lemmatize(word) for word in review if word not in stop_words]\n",
    "    review=\" \".join(review)\n",
    "    data[\"Rtext\"][i]=review"
   ]
  },
  {
   "cell_type": "code",
   "execution_count": 15,
   "id": "d46636f3",
   "metadata": {
    "ExecuteTime": {
     "end_time": "2022-03-04T15:30:51.116128Z",
     "start_time": "2022-03-04T15:30:51.100995Z"
    }
   },
   "outputs": [
    {
     "data": {
      "text/plain": [
       "'Subject enron methanol meter follow note gave monday preliminary flow data provided daren please override pop daily volume presently zero reflect daily activity obtain gas control change needed asap economics purpose'"
      ]
     },
     "execution_count": 15,
     "metadata": {},
     "output_type": "execute_result"
    }
   ],
   "source": [
    "#data after removal of stop words and lemmatizing\n",
    "data.iloc[0][2]"
   ]
  },
  {
   "cell_type": "code",
   "execution_count": 16,
   "id": "15095a1a",
   "metadata": {
    "ExecuteTime": {
     "end_time": "2022-03-04T15:30:51.132130Z",
     "start_time": "2022-03-04T15:30:51.118127Z"
    }
   },
   "outputs": [],
   "source": [
    "from sklearn.feature_extraction.text import CountVectorizer, TfidfVectorizer\n",
    "from sklearn.model_selection import train_test_split"
   ]
  },
  {
   "cell_type": "code",
   "execution_count": 17,
   "id": "ad62eb1c",
   "metadata": {
    "ExecuteTime": {
     "end_time": "2022-03-04T15:30:51.148133Z",
     "start_time": "2022-03-04T15:30:51.134135Z"
    }
   },
   "outputs": [],
   "source": [
    "X_train,X_test,y_train,y_test=train_test_split(data[\"Rtext\"],data[\"label_num\"],test_size=.3)"
   ]
  },
  {
   "cell_type": "code",
   "execution_count": 18,
   "id": "a1521253",
   "metadata": {
    "ExecuteTime": {
     "end_time": "2022-03-04T15:30:51.164133Z",
     "start_time": "2022-03-04T15:30:51.150136Z"
    }
   },
   "outputs": [
    {
     "name": "stdout",
     "output_type": "stream",
     "text": [
      "(3619,) (1552,) (3619,) (1552,)\n"
     ]
    }
   ],
   "source": [
    "print(X_train.shape,X_test.shape,y_train.shape,y_test.shape)"
   ]
  },
  {
   "cell_type": "code",
   "execution_count": 19,
   "id": "3ba80231",
   "metadata": {
    "ExecuteTime": {
     "end_time": "2022-03-04T15:30:52.098711Z",
     "start_time": "2022-03-04T15:30:51.167136Z"
    }
   },
   "outputs": [],
   "source": [
    "# bag of words data\n",
    "count = CountVectorizer()\n",
    "count.fit(X_train)\n",
    "bow_train = count.transform(X_train).toarray()\n",
    "bow_test = count.transform(X_test).toarray()"
   ]
  },
  {
   "cell_type": "code",
   "execution_count": 20,
   "id": "84451c54",
   "metadata": {
    "ExecuteTime": {
     "end_time": "2022-03-04T15:30:52.178612Z",
     "start_time": "2022-03-04T15:30:52.098711Z"
    }
   },
   "outputs": [],
   "source": [
    "bow_train = pd.DataFrame(bow_train,columns=count.get_feature_names())\n",
    "bow_test = pd.DataFrame(bow_test,columns=count.get_feature_names())"
   ]
  },
  {
   "cell_type": "code",
   "execution_count": 21,
   "id": "50f52689",
   "metadata": {
    "ExecuteTime": {
     "end_time": "2022-03-04T15:30:52.194620Z",
     "start_time": "2022-03-04T15:30:52.180614Z"
    }
   },
   "outputs": [
    {
     "data": {
      "text/plain": [
       "(3619, 36138)"
      ]
     },
     "execution_count": 21,
     "metadata": {},
     "output_type": "execute_result"
    }
   ],
   "source": [
    "bow_train.shape"
   ]
  },
  {
   "cell_type": "code",
   "execution_count": 22,
   "id": "52f9c084",
   "metadata": {
    "ExecuteTime": {
     "end_time": "2022-03-04T15:30:52.210622Z",
     "start_time": "2022-03-04T15:30:52.195621Z"
    }
   },
   "outputs": [],
   "source": [
    "from sklearn.naive_bayes import MultinomialNB\n",
    "from sklearn.metrics import ConfusionMatrixDisplay, confusion_matrix, accuracy_score, precision_score, recall_score"
   ]
  },
  {
   "cell_type": "code",
   "execution_count": 23,
   "id": "935826d5",
   "metadata": {
    "ExecuteTime": {
     "end_time": "2022-03-04T15:30:52.225826Z",
     "start_time": "2022-03-04T15:30:52.212622Z"
    }
   },
   "outputs": [],
   "source": [
    "#Hyperparameter tuning for bag of word data\n",
    "from sklearn.model_selection import GridSearchCV\n",
    "clf = GridSearchCV(MultinomialNB(),{\n",
    "    \"alpha\":np.linspace(0,1,11)\n",
    "}, cv=5)"
   ]
  },
  {
   "cell_type": "code",
   "execution_count": 24,
   "id": "5d49e201",
   "metadata": {
    "ExecuteTime": {
     "end_time": "2022-03-04T15:35:07.838538Z",
     "start_time": "2022-03-04T15:30:52.228828Z"
    }
   },
   "outputs": [
    {
     "data": {
      "text/plain": [
       "GridSearchCV(cv=5, estimator=MultinomialNB(),\n",
       "             param_grid={'alpha': array([0. , 0.1, 0.2, 0.3, 0.4, 0.5, 0.6, 0.7, 0.8, 0.9, 1. ])})"
      ]
     },
     "execution_count": 24,
     "metadata": {},
     "output_type": "execute_result"
    }
   ],
   "source": [
    "clf.fit(bow_train,y_train)"
   ]
  },
  {
   "cell_type": "code",
   "execution_count": 25,
   "id": "7f16abf0",
   "metadata": {
    "ExecuteTime": {
     "end_time": "2022-03-04T15:35:07.854098Z",
     "start_time": "2022-03-04T15:35:07.840540Z"
    }
   },
   "outputs": [
    {
     "data": {
      "text/plain": [
       "{'alpha': 0.1}"
      ]
     },
     "execution_count": 25,
     "metadata": {},
     "output_type": "execute_result"
    }
   ],
   "source": [
    "clf.best_params_"
   ]
  },
  {
   "cell_type": "code",
   "execution_count": 26,
   "id": "bcf2c3fb",
   "metadata": {
    "ExecuteTime": {
     "end_time": "2022-03-04T15:35:11.043682Z",
     "start_time": "2022-03-04T15:35:07.855096Z"
    }
   },
   "outputs": [
    {
     "name": "stdout",
     "output_type": "stream",
     "text": [
      "accuracy:0.9780927835051546, recall: 0.9556962025316456, precision 0.9721030042918455\n"
     ]
    },
    {
     "data": {
      "image/png": "[encoded data removed]",
      "text/plain": [
       "<Figure size 432x288 with 2 Axes>"
      ]
     },
     "metadata": {
      "needs_background": "light"
     },
     "output_type": "display_data"
    }
   ],
   "source": [
    "model1 = MultinomialNB(alpha=clf.best_params_[\"alpha\"])\n",
    "model1.fit(bow_train,y_train)\n",
    "pred1 = model1.predict(bow_test)\n",
    "predprob1 = model1.predict_proba(bow_test)\n",
    "print(f\"accuracy:{accuracy_score(y_test,pred1)}, recall: {recall_score(y_test,pred1)}, precision {precision_score(y_test,pred1)}\")\n",
    "cm1 = confusion_matrix(y_test,pred1)\n",
    "disp1 = ConfusionMatrixDisplay(cm1,display_labels=model1.classes_)\n",
    "disp1.plot()\n",
    "plt.show()"
   ]
  },
  {
   "cell_type": "code",
   "execution_count": 27,
   "id": "f29a0cdc",
   "metadata": {
    "ExecuteTime": {
     "end_time": "2022-03-04T15:35:11.167772Z",
     "start_time": "2022-03-04T15:35:11.049987Z"
    }
   },
   "outputs": [
    {
     "data": {
      "image/png": "[encoded data removed]",
      "text/plain": [
       "<Figure size 432x288 with 1 Axes>"
      ]
     },
     "metadata": {
      "needs_background": "light"
     },
     "output_type": "display_data"
    }
   ],
   "source": [
    "from sklearn.metrics import roc_curve, roc_auc_score\n",
    "fpr,tpr,_=roc_curve(y_test,predprob1[:,1])\n",
    "plt.plot(fpr,tpr,\"--\",color=\"green\", label=f\"BOW-AUC: {roc_auc_score(y_test,predprob1[:,1])}\")\n",
    "plt.legend()\n",
    "plt.show()"
   ]
  },
  {
   "cell_type": "code",
   "execution_count": 28,
   "id": "c21997bb",
   "metadata": {
    "ExecuteTime": {
     "end_time": "2022-03-04T15:35:12.081102Z",
     "start_time": "2022-03-04T15:35:11.167772Z"
    }
   },
   "outputs": [],
   "source": [
    "# tfidf data\n",
    "tfidf = TfidfVectorizer()\n",
    "tfidf.fit(X_train)\n",
    "tfidf_train = tfidf.transform(X_train).toarray()\n",
    "tfidf_test = tfidf.transform(X_test).toarray()"
   ]
  },
  {
   "cell_type": "code",
   "execution_count": 29,
   "id": "0f0b2f34",
   "metadata": {
    "ExecuteTime": {
     "end_time": "2022-03-04T15:35:12.142226Z",
     "start_time": "2022-03-04T15:35:12.081102Z"
    }
   },
   "outputs": [],
   "source": [
    "tfidf_train = pd.DataFrame(tfidf_train,columns=tfidf.get_feature_names())\n",
    "tfidf_test = pd.DataFrame(tfidf_test,columns=tfidf.get_feature_names())"
   ]
  },
  {
   "cell_type": "code",
   "execution_count": 30,
   "id": "fb6dbea9",
   "metadata": {
    "ExecuteTime": {
     "end_time": "2022-03-04T15:35:12.149419Z",
     "start_time": "2022-03-04T15:35:12.142226Z"
    }
   },
   "outputs": [
    {
     "data": {
      "text/plain": [
       "(3619, 36138)"
      ]
     },
     "execution_count": 30,
     "metadata": {},
     "output_type": "execute_result"
    }
   ],
   "source": [
    "tfidf_train.shape"
   ]
  },
  {
   "cell_type": "code",
   "execution_count": 31,
   "id": "412903f3",
   "metadata": {
    "ExecuteTime": {
     "end_time": "2022-03-04T15:36:19.563057Z",
     "start_time": "2022-03-04T15:35:12.149419Z"
    }
   },
   "outputs": [
    {
     "data": {
      "text/plain": [
       "GridSearchCV(cv=5, estimator=MultinomialNB(),\n",
       "             param_grid={'alpha': array([0. , 0.1, 0.2, 0.3, 0.4, 0.5, 0.6, 0.7, 0.8, 0.9, 1. ])})"
      ]
     },
     "execution_count": 31,
     "metadata": {},
     "output_type": "execute_result"
    }
   ],
   "source": [
    "#Hyperparameter tuning for tfidf data\n",
    "clf.fit(tfidf_train,y_train)"
   ]
  },
  {
   "cell_type": "code",
   "execution_count": 32,
   "id": "ef3d08ba",
   "metadata": {
    "ExecuteTime": {
     "end_time": "2022-03-04T15:36:19.579059Z",
     "start_time": "2022-03-04T15:36:19.564058Z"
    }
   },
   "outputs": [
    {
     "data": {
      "text/plain": [
       "{'alpha': 0.1}"
      ]
     },
     "execution_count": 32,
     "metadata": {},
     "output_type": "execute_result"
    }
   ],
   "source": [
    "clf.best_params_"
   ]
  },
  {
   "cell_type": "code",
   "execution_count": 33,
   "id": "0c109972",
   "metadata": {
    "ExecuteTime": {
     "end_time": "2022-03-04T15:36:21.188348Z",
     "start_time": "2022-03-04T15:36:19.581059Z"
    }
   },
   "outputs": [
    {
     "name": "stdout",
     "output_type": "stream",
     "text": [
      "accuracy:0.976159793814433, recall: 0.9345991561181435, precision 0.9866369710467706\n"
     ]
    },
    {
     "data": {
      "image/png": "[encoded data removed]",
      "text/plain": [
       "<Figure size 432x288 with 2 Axes>"
      ]
     },
     "metadata": {
      "needs_background": "light"
     },
     "output_type": "display_data"
    }
   ],
   "source": [
    "model2 = MultinomialNB(alpha=clf.best_params_[\"alpha\"])\n",
    "model2.fit(tfidf_train,y_train)\n",
    "pred2 = model2.predict(tfidf_test)\n",
    "predprob2 = model1.predict_proba(tfidf_test)\n",
    "cm2 = confusion_matrix(y_test,pred2)\n",
    "print(f\"accuracy:{accuracy_score(y_test,pred2)}, recall: {recall_score(y_test,pred2)}, precision {precision_score(y_test,pred2)}\")\n",
    "disp2 = ConfusionMatrixDisplay(cm2,display_labels=model2.classes_)\n",
    "disp2.plot()\n",
    "plt.show()"
   ]
  },
  {
   "cell_type": "code",
   "execution_count": 34,
   "id": "af2481ca",
   "metadata": {
    "ExecuteTime": {
     "end_time": "2022-03-04T15:36:21.331542Z",
     "start_time": "2022-03-04T15:36:21.189349Z"
    }
   },
   "outputs": [
    {
     "data": {
      "image/png": "[encoded data removed]",
      "text/plain": [
       "<Figure size 432x288 with 1 Axes>"
      ]
     },
     "metadata": {
      "needs_background": "light"
     },
     "output_type": "display_data"
    }
   ],
   "source": [
    "fpr,tpr,_=roc_curve(y_test,predprob2[:,1])\n",
    "plt.plot(fpr,tpr,\"--\",color=\"green\", label=f\"TFIDF-AUC: {roc_auc_score(y_test,predprob2[:,1])}\")\n",
    "plt.legend()\n",
    "plt.show()"
   ]
  }
 ],
 "metadata": {
  "kernelspec": {
   "display_name": "Python 3 (ipykernel)",
   "language": "python",
   "name": "python3"
  },
  "language_info": {
   "codemirror_mode": {
    "name": "ipython",
    "version": 3
   },
   "file_extension": ".py",
   "mimetype": "text/x-python",
   "name": "python",
   "nbconvert_exporter": "python",
   "pygments_lexer": "ipython3",
   "version": "3.7.11"
  },
  "varInspector": {
   "cols": {
    "lenName": 16,
    "lenType": 16,
    "lenVar": 40
   },
   "kernels_config": {
    "python": {
     "delete_cmd_postfix": "",
     "delete_cmd_prefix": "del ",
     "library": "var_list.py",
     "varRefreshCmd": "print(var_dic_list())"
    },
    "r": {
     "delete_cmd_postfix": ") ",
     "delete_cmd_prefix": "rm(",
     "library": "var_list.r",
     "varRefreshCmd": "cat(var_dic_list()) "
    }
   },
   "types_to_exclude": [
    "module",
    "function",
    "builtin_function_or_method",
    "instance",
    "_Feature"
   ],
   "window_display": false
  }
 },
 "nbformat": 4,
 "nbformat_minor": 5
}
